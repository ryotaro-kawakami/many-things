{
  "nbformat": 4,
  "nbformat_minor": 0,
  "metadata": {
    "colab": {
      "name": "testmaker.ipynb",
      "provenance": [],
      "include_colab_link": true
    },
    "kernelspec": {
      "name": "python3",
      "display_name": "Python 3"
    },
    "accelerator": "GPU"
  },
  "cells": [
    {
      "cell_type": "markdown",
      "metadata": {
        "id": "view-in-github",
        "colab_type": "text"
      },
      "source": [
        "<a href=\"https://colab.research.google.com/github/ryotaro-kawakami/resist-to-medicine/blob/master/Untitled0.ipynb\" target=\"_parent\"><img src=\"https://colab.research.google.com/assets/colab-badge.svg\" alt=\"Open In Colab\"/></a>"
      ]
    },
    {
      "cell_type": "code",
      "metadata": {
        "id": "uogYE-In35di",
        "colab_type": "code",
        "outputId": "badcb8cb-545a-4407-bae2-d15b8f034c96",
        "colab": {
          "base_uri": "https://localhost:8080/",
          "height": 54
        }
      },
      "source": [
        "from google.colab import drive\n",
        "drive.mount('/content/drive')"
      ],
      "execution_count": 8,
      "outputs": [
        {
          "output_type": "stream",
          "text": [
            "Drive already mounted at /content/drive; to attempt to forcibly remount, call drive.mount(\"/content/drive\", force_remount=True).\n"
          ],
          "name": "stdout"
        }
      ]
    },
    {
      "cell_type": "code",
      "metadata": {
        "id": "YxVDB1EkSVb7",
        "colab_type": "code",
        "colab": {}
      },
      "source": [
        "import re\n",
        "import random\n",
        "import io,sys\n",
        "import numpy as np"
      ],
      "execution_count": 0,
      "outputs": []
    },
    {
      "cell_type": "markdown",
      "metadata": {
        "id": "ZVDYdSAoTJnh",
        "colab_type": "text"
      },
      "source": [
        "↓のみ変更すること"
      ]
    },
    {
      "cell_type": "code",
      "metadata": {
        "id": "nVJHrrLQSVsU",
        "colab_type": "code",
        "colab": {}
      },
      "source": [
        "source = '/content/drive/My Drive/list.txt'\n",
        "n_question = 8\n",
        "n_start = 7\n",
        "n_end = 16\n"
      ],
      "execution_count": 0,
      "outputs": []
    },
    {
      "cell_type": "markdown",
      "metadata": {
        "id": "EV-FcfcOTTwJ",
        "colab_type": "text"
      },
      "source": [
        "↓さわらない"
      ]
    },
    {
      "cell_type": "code",
      "metadata": {
        "id": "tZIa0EE2SVzX",
        "colab_type": "code",
        "colab": {}
      },
      "source": [
        "N_start = n_start-1\n",
        "N_end = n_end-1\n",
        "with open(source) as f:\n",
        "    data = f.read()\n",
        "\n",
        "english_words = re.findall('[a-z]+', data)\n",
        "ja = re.findall('\\s.*\\n', data)\n",
        "meanings = []\n",
        "for word in ja:\n",
        "    m=re.sub('\\n',  '', word)\n",
        "    meanings.append(m)\n",
        "\n",
        "word_dict = dict(zip(english_words, meanings))\n",
        "random_set=set()\n",
        "while len(random_set) < n_question:\n",
        "  random_set.add(np.random.randint(low=N_start, high=N_end))\n",
        "random_index = list(random_set)\n",
        "\n",
        "#random_index = np.random.randint(low=N_start, high=N_end, size=n_question)\n",
        "with open('/content/drive/My Drive/単語テスト.txt', 'w')as f:\n",
        "    f.write('単語テスト\\n'\n",
        "            '範囲：{}-{}\\n\\n'.format(n_start, n_end))\n",
        "    for question_num in range(n_question):\n",
        "        question_words = english_words[random_index[question_num]]\n",
        "        correct_answer = word_dict[question_words]\n",
        "\n",
        "\n",
        "        f.write('問{}.{}\\n\\n'.format(question_num+1, question_words))\n",
        "\n",
        "with open('/content/drive/My Drive/単語テストの答え.txt', 'w')as f:\n",
        "    f.write('単語テスト\\n'\n",
        "            '範囲：{}-{}\\n\\n'.format(n_start, n_end))\n",
        "    for question_num in range(n_question):\n",
        "        question_words = english_words[random_index[question_num]]\n",
        "        correct_answer = word_dict[question_words]\n",
        "\n",
        "\n",
        "        f.write('問{}.{}{}\\n\\n'.format(question_num+1, question_words, correct_answer))"
      ],
      "execution_count": 0,
      "outputs": []
    },
    {
      "cell_type": "code",
      "metadata": {
        "id": "nPukcnvESV23",
        "colab_type": "code",
        "colab": {
          "base_uri": "https://localhost:8080/",
          "height": 34
        },
        "outputId": "f92da5ee-20bf-4bd2-9594-de9bb2947712"
      },
      "source": [
        "print(random_index)"
      ],
      "execution_count": 23,
      "outputs": [
        {
          "output_type": "stream",
          "text": [
            "[6, 7, 8, 9, 10, 11, 12, 13]\n"
          ],
          "name": "stdout"
        }
      ]
    },
    {
      "cell_type": "code",
      "metadata": {
        "id": "M0BIbephWnym",
        "colab_type": "code",
        "colab": {}
      },
      "source": [
        ""
      ],
      "execution_count": 0,
      "outputs": []
    },
    {
      "cell_type": "code",
      "metadata": {
        "id": "BsoFdmcWZmFP",
        "colab_type": "code",
        "colab": {}
      },
      "source": [
        ""
      ],
      "execution_count": 0,
      "outputs": []
    },
    {
      "cell_type": "code",
      "metadata": {
        "id": "QpH0LFVbZmNi",
        "colab_type": "code",
        "colab": {}
      },
      "source": [
        ""
      ],
      "execution_count": 0,
      "outputs": []
    }
  ]
}
